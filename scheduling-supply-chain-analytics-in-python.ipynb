{
 "cells": [
  {
   "cell_type": "markdown",
   "metadata": {
    "_cell_guid": "b1076dfc-b9ad-4769-8c92-a6c4dae69d19",
    "_uuid": "8f2839f25d086af736a60e9eeb907d3b93b6e0e5"
   },
   "source": [
    "# Supply Chain Analytics in Python\n",
    "## A scheduling problem\n",
    "The situation: The expected demand of drivers: {Days_of_week, Numbers_of_drivers_needed = Monday : 20, Tuesday : 14, Wednesday : 11, Thursday : 15, Friday : 22, Saturday : 12, Sunday : 25}\n",
    "\n",
    "**Objective Function: How many drivers we require to hire**\n",
    "\n",
    "**Constraints: Each driver works for 5 consecutive days, followed by 2 days off, repeated weekly**\n",
    "\n",
    "Source: [Datacamp](https://campus.datacamp.com/courses/supply-chain-analytics-in-python)"
   ]
  },
  {
   "cell_type": "code",
   "execution_count": 1,
   "metadata": {
    "_cell_guid": "79c7e3d0-c299-4dcb-8224-4455121ee9b0",
    "_uuid": "d629ff2d2480ee46fbb7e2d37f6b5fab8052498a"
   },
   "outputs": [
    {
     "name": "stdout",
     "output_type": "stream",
     "text": [
      "Collecting pulp\r\n",
      "\u001b[?25l  Downloading https://files.pythonhosted.org/packages/91/cd/8ed5d788973f6632cc44d0e95c486646c090c427c90667c901b75e544bc1/PuLP-1.6.9.zip (13.6MB)\r\n",
      "\u001b[K    100% |████████████████████████████████| 13.6MB 1.3MB/s \r\n",
      "\u001b[?25hRequirement already satisfied: pyparsing>=2.0.1 in /opt/conda/lib/python3.6/site-packages (from pulp) (2.2.0)\r\n",
      "Building wheels for collected packages: pulp\r\n",
      "  Building wheel for pulp (setup.py) ... \u001b[?25l-\b \b\\\b \b|\b \b/\b \b-\b \b\\\b \b|\b \b/\b \b-\b \bdone\r\n",
      "\u001b[?25h  Stored in directory: /tmp/.cache/pip/wheels/3b/f1/f5/f6d0aac56dd154c2593d3fa5e901aa9bc32a51bd8594b4bf8e\r\n",
      "Successfully built pulp\r\n",
      "Installing collected packages: pulp\r\n",
      "Successfully installed pulp-1.6.9\r\n",
      "\u001b[33mYou are using pip version 19.0.3, however version 19.1 is available.\r\n",
      "You should consider upgrading via the 'pip install --upgrade pip' command.\u001b[0m\r\n",
      "PuLP for Optimization Problem - start\n"
     ]
    },
    {
     "data": {
      "text/plain": [
       "1"
      ]
     },
     "execution_count": 1,
     "metadata": {},
     "output_type": "execute_result"
    }
   ],
   "source": [
    "!pip install pulp\n",
    "print('PuLP for Optimization Problem - start')\n",
    "from pulp import *\n",
    "model = LpProblem(\"Minimization problem - Scheduling: \", LpMinimize)\n",
    "days = list(range(7))\n",
    "\n",
    "x = LpVariable.dicts('staff_', days, lowBound=0, cat='Integer')\n",
    "model += lpSum(x[i] for i in days)\n",
    "model += x[0] + x[3] + x[4] + x[5] + x[6] >= 20\n",
    "model += x[0] + x[1] + x[4] + x[5] + x[6] >= 14\n",
    "model += x[0] + x[1] + x[2] + x[5] + x[6] >= 11\n",
    "model += x[0] + x[1] + x[2] + x[3] + x[6] >= 15\n",
    "model += x[0] + x[1] + x[2] + x[3] + x[4] >= 22\n",
    "model += x[1] + x[2] + x[3] + x[4] + x[5] >= 12\n",
    "model += x[2] + x[3] + x[4] + x[5] + x[6] >= 25\n",
    "\n",
    "model.solve()"
   ]
  },
  {
   "cell_type": "code",
   "execution_count": 2,
   "metadata": {},
   "outputs": [
    {
     "name": "stdout",
     "output_type": "stream",
     "text": [
      "Model Status: Optimal\n",
      "staff__0 = 1.0\n",
      "staff__1 = 0.0\n",
      "staff__2 = 6.0\n",
      "staff__3 = 4.0\n",
      "staff__4 = 11.0\n",
      "staff__5 = 0.0\n",
      "staff__6 = 4.0\n",
      "The optimised objective function=  26.0\n",
      "PuLP for Optimization Problem - end\n"
     ]
    }
   ],
   "source": [
    "#Solution\n",
    "# The status of the solution is printed to the screen\n",
    "print(\"Model Status:\", LpStatus[model.status])\n",
    "\n",
    "# Each of the variables is printed with it's resolved optimum value\n",
    "for v in model.variables():\n",
    "    print(v.name, \"=\", v.varValue)\n",
    "\n",
    "# The optimised objective function value is printed to the screen\n",
    "print(\"The optimised objective function= \", value(model.objective))\n",
    "\n",
    "print('PuLP for Optimization Problem - end')"
   ]
  },
  {
   "cell_type": "code",
   "execution_count": 3,
   "metadata": {},
   "outputs": [],
   "source": []
  }
 ],
 "metadata": {
  "kernelspec": {
   "display_name": "Python 3",
   "language": "python",
   "name": "python3"
  },
  "language_info": {
   "codemirror_mode": {
    "name": "ipython",
    "version": 3
   },
   "file_extension": ".py",
   "mimetype": "text/x-python",
   "name": "python",
   "nbconvert_exporter": "python",
   "pygments_lexer": "ipython3",
   "version": "3.6.4"
  }
 },
 "nbformat": 4,
 "nbformat_minor": 1
}
